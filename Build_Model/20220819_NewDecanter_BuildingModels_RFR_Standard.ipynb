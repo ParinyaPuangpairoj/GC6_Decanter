{
 "cells": [
  {
   "cell_type": "markdown",
   "metadata": {},
   "source": [
    "# Libraries"
   ]
  },
  {
   "cell_type": "code",
   "execution_count": 27,
   "metadata": {},
   "outputs": [],
   "source": [
    "import pandas as pd\n",
    "import numpy as np\n",
    "import matplotlib.pyplot as plt\n",
    "%matplotlib inline\n",
    "from sklearn.metrics import classification_report\n",
    "import scikitplot as skplot\n",
    "#from sklearn.metrics import roc_curve, auc\n",
    "from sklearn.preprocessing import StandardScaler \n",
    "#from sklearn.preprocessing import MinMaxScaler\n",
    "from sklearn.model_selection import train_test_split\n",
    "from sklearn.model_selection import GridSearchCV\n",
    "#from sklearn.linear_model import LogisticRegression\n",
    "#from sklearn.neighbors import KNeighborsClassifier\n",
    "#from sklearn.ensemble import RandomForestClassifier\n",
    "from sklearn.ensemble import RandomForestRegressor\n",
    "from sklearn.metrics import accuracy_score\n",
    "from sklearn.metrics import r2_score,mean_squared_error"
   ]
  },
  {
   "cell_type": "markdown",
   "metadata": {},
   "source": [
    "# Acquire Data"
   ]
  },
  {
   "cell_type": "code",
   "execution_count": 28,
   "metadata": {},
   "outputs": [],
   "source": [
    "df_train = pd.read_excel('20220819_NewDecanter_AfterCleansingAndEDA.xlsx') # Importing our training dataset"
   ]
  },
  {
   "cell_type": "code",
   "execution_count": 29,
   "metadata": {},
   "outputs": [
    {
     "data": {
      "text/html": [
       "<div>\n",
       "<style scoped>\n",
       "    .dataframe tbody tr th:only-of-type {\n",
       "        vertical-align: middle;\n",
       "    }\n",
       "\n",
       "    .dataframe tbody tr th {\n",
       "        vertical-align: top;\n",
       "    }\n",
       "\n",
       "    .dataframe thead th {\n",
       "        text-align: right;\n",
       "    }\n",
       "</style>\n",
       "<table border=\"1\" class=\"dataframe\">\n",
       "  <thead>\n",
       "    <tr style=\"text-align: right;\">\n",
       "      <th></th>\n",
       "      <th>T_5551</th>\n",
       "      <th>T_5554</th>\n",
       "      <th>T_5552</th>\n",
       "      <th>Decanter_Flowrate</th>\n",
       "      <th>Temp_Bearing_NDE</th>\n",
       "      <th>Temp_Bearing_DE</th>\n",
       "      <th>Vibration_Feed</th>\n",
       "      <th>Vibration_Driver</th>\n",
       "      <th>Vibration_Frame</th>\n",
       "      <th>Blow_Speed_RPM</th>\n",
       "      <th>Diff_Speed_RPM</th>\n",
       "      <th>Torque</th>\n",
       "      <th>Severity</th>\n",
       "    </tr>\n",
       "  </thead>\n",
       "  <tbody>\n",
       "    <tr>\n",
       "      <th>0</th>\n",
       "      <td>67.936150</td>\n",
       "      <td>77.467194</td>\n",
       "      <td>52.334980</td>\n",
       "      <td>5.067348</td>\n",
       "      <td>44.074169</td>\n",
       "      <td>52.407757</td>\n",
       "      <td>3.266149</td>\n",
       "      <td>1.093617</td>\n",
       "      <td>3.461218</td>\n",
       "      <td>3179.257568</td>\n",
       "      <td>1.404776</td>\n",
       "      <td>3.194033</td>\n",
       "      <td>3</td>\n",
       "    </tr>\n",
       "    <tr>\n",
       "      <th>1</th>\n",
       "      <td>67.835419</td>\n",
       "      <td>68.610298</td>\n",
       "      <td>48.186638</td>\n",
       "      <td>4.781287</td>\n",
       "      <td>44.220940</td>\n",
       "      <td>52.260834</td>\n",
       "      <td>2.478317</td>\n",
       "      <td>2.430974</td>\n",
       "      <td>2.422086</td>\n",
       "      <td>3181.251953</td>\n",
       "      <td>1.406971</td>\n",
       "      <td>3.037234</td>\n",
       "      <td>3</td>\n",
       "    </tr>\n",
       "    <tr>\n",
       "      <th>2</th>\n",
       "      <td>65.903542</td>\n",
       "      <td>81.915855</td>\n",
       "      <td>45.028320</td>\n",
       "      <td>5.216979</td>\n",
       "      <td>44.317516</td>\n",
       "      <td>51.881176</td>\n",
       "      <td>0.836691</td>\n",
       "      <td>2.622614</td>\n",
       "      <td>0.539779</td>\n",
       "      <td>3180.539795</td>\n",
       "      <td>1.404714</td>\n",
       "      <td>2.844089</td>\n",
       "      <td>3</td>\n",
       "    </tr>\n",
       "    <tr>\n",
       "      <th>3</th>\n",
       "      <td>64.512802</td>\n",
       "      <td>71.935173</td>\n",
       "      <td>48.777279</td>\n",
       "      <td>4.877123</td>\n",
       "      <td>44.309498</td>\n",
       "      <td>51.664837</td>\n",
       "      <td>3.003732</td>\n",
       "      <td>1.120057</td>\n",
       "      <td>3.132683</td>\n",
       "      <td>3179.219482</td>\n",
       "      <td>1.408366</td>\n",
       "      <td>4.396934</td>\n",
       "      <td>3</td>\n",
       "    </tr>\n",
       "    <tr>\n",
       "      <th>4</th>\n",
       "      <td>62.900108</td>\n",
       "      <td>78.755104</td>\n",
       "      <td>50.602764</td>\n",
       "      <td>5.097422</td>\n",
       "      <td>52.409241</td>\n",
       "      <td>83.077713</td>\n",
       "      <td>3.611319</td>\n",
       "      <td>1.527769</td>\n",
       "      <td>4.074305</td>\n",
       "      <td>3179.277100</td>\n",
       "      <td>1.407362</td>\n",
       "      <td>3.685323</td>\n",
       "      <td>3</td>\n",
       "    </tr>\n",
       "  </tbody>\n",
       "</table>\n",
       "</div>"
      ],
      "text/plain": [
       "      T_5551     T_5554     T_5552  Decanter_Flowrate  Temp_Bearing_NDE  \\\n",
       "0  67.936150  77.467194  52.334980           5.067348         44.074169   \n",
       "1  67.835419  68.610298  48.186638           4.781287         44.220940   \n",
       "2  65.903542  81.915855  45.028320           5.216979         44.317516   \n",
       "3  64.512802  71.935173  48.777279           4.877123         44.309498   \n",
       "4  62.900108  78.755104  50.602764           5.097422         52.409241   \n",
       "\n",
       "   Temp_Bearing_DE  Vibration_Feed  Vibration_Driver  Vibration_Frame  \\\n",
       "0        52.407757        3.266149          1.093617         3.461218   \n",
       "1        52.260834        2.478317          2.430974         2.422086   \n",
       "2        51.881176        0.836691          2.622614         0.539779   \n",
       "3        51.664837        3.003732          1.120057         3.132683   \n",
       "4        83.077713        3.611319          1.527769         4.074305   \n",
       "\n",
       "   Blow_Speed_RPM  Diff_Speed_RPM    Torque  Severity  \n",
       "0     3179.257568        1.404776  3.194033         3  \n",
       "1     3181.251953        1.406971  3.037234         3  \n",
       "2     3180.539795        1.404714  2.844089         3  \n",
       "3     3179.219482        1.408366  4.396934         3  \n",
       "4     3179.277100        1.407362  3.685323         3  "
      ]
     },
     "execution_count": 29,
     "metadata": {},
     "output_type": "execute_result"
    }
   ],
   "source": [
    "df_train.head()"
   ]
  },
  {
   "cell_type": "code",
   "execution_count": 30,
   "metadata": {},
   "outputs": [
    {
     "data": {
      "text/html": [
       "<div>\n",
       "<style scoped>\n",
       "    .dataframe tbody tr th:only-of-type {\n",
       "        vertical-align: middle;\n",
       "    }\n",
       "\n",
       "    .dataframe tbody tr th {\n",
       "        vertical-align: top;\n",
       "    }\n",
       "\n",
       "    .dataframe thead th {\n",
       "        text-align: right;\n",
       "    }\n",
       "</style>\n",
       "<table border=\"1\" class=\"dataframe\">\n",
       "  <thead>\n",
       "    <tr style=\"text-align: right;\">\n",
       "      <th></th>\n",
       "      <th>T_5551</th>\n",
       "      <th>T_5554</th>\n",
       "      <th>T_5552</th>\n",
       "      <th>Decanter_Flowrate</th>\n",
       "      <th>Temp_Bearing_NDE</th>\n",
       "      <th>Temp_Bearing_DE</th>\n",
       "      <th>Vibration_Feed</th>\n",
       "      <th>Vibration_Driver</th>\n",
       "      <th>Vibration_Frame</th>\n",
       "      <th>Blow_Speed_RPM</th>\n",
       "      <th>Diff_Speed_RPM</th>\n",
       "      <th>Torque</th>\n",
       "      <th>Severity</th>\n",
       "    </tr>\n",
       "  </thead>\n",
       "  <tbody>\n",
       "    <tr>\n",
       "      <th>2627</th>\n",
       "      <td>52.66777</td>\n",
       "      <td>73.753344</td>\n",
       "      <td>59.091043</td>\n",
       "      <td>4.438022</td>\n",
       "      <td>49.765103</td>\n",
       "      <td>54.360617</td>\n",
       "      <td>22.60</td>\n",
       "      <td>25.0</td>\n",
       "      <td>21.0</td>\n",
       "      <td>3160.720527</td>\n",
       "      <td>1.349073</td>\n",
       "      <td>4.439894</td>\n",
       "      <td>4</td>\n",
       "    </tr>\n",
       "    <tr>\n",
       "      <th>2628</th>\n",
       "      <td>52.66777</td>\n",
       "      <td>73.753344</td>\n",
       "      <td>59.091043</td>\n",
       "      <td>4.438022</td>\n",
       "      <td>49.765103</td>\n",
       "      <td>54.360617</td>\n",
       "      <td>24.02</td>\n",
       "      <td>23.0</td>\n",
       "      <td>16.0</td>\n",
       "      <td>3160.720527</td>\n",
       "      <td>1.349073</td>\n",
       "      <td>4.439894</td>\n",
       "      <td>4</td>\n",
       "    </tr>\n",
       "    <tr>\n",
       "      <th>2629</th>\n",
       "      <td>52.66777</td>\n",
       "      <td>73.753344</td>\n",
       "      <td>59.091043</td>\n",
       "      <td>4.438022</td>\n",
       "      <td>49.765103</td>\n",
       "      <td>54.360617</td>\n",
       "      <td>26.89</td>\n",
       "      <td>16.0</td>\n",
       "      <td>22.0</td>\n",
       "      <td>3160.720527</td>\n",
       "      <td>1.349073</td>\n",
       "      <td>4.439894</td>\n",
       "      <td>4</td>\n",
       "    </tr>\n",
       "    <tr>\n",
       "      <th>2630</th>\n",
       "      <td>52.66777</td>\n",
       "      <td>73.753344</td>\n",
       "      <td>59.091043</td>\n",
       "      <td>4.438022</td>\n",
       "      <td>49.765103</td>\n",
       "      <td>54.360617</td>\n",
       "      <td>19.99</td>\n",
       "      <td>14.0</td>\n",
       "      <td>20.0</td>\n",
       "      <td>3160.720527</td>\n",
       "      <td>1.349073</td>\n",
       "      <td>4.439894</td>\n",
       "      <td>4</td>\n",
       "    </tr>\n",
       "    <tr>\n",
       "      <th>2631</th>\n",
       "      <td>52.66777</td>\n",
       "      <td>73.753344</td>\n",
       "      <td>59.091043</td>\n",
       "      <td>4.438022</td>\n",
       "      <td>49.765103</td>\n",
       "      <td>54.360617</td>\n",
       "      <td>25.67</td>\n",
       "      <td>23.0</td>\n",
       "      <td>16.8</td>\n",
       "      <td>3160.720527</td>\n",
       "      <td>1.349073</td>\n",
       "      <td>4.439894</td>\n",
       "      <td>4</td>\n",
       "    </tr>\n",
       "  </tbody>\n",
       "</table>\n",
       "</div>"
      ],
      "text/plain": [
       "        T_5551     T_5554     T_5552  Decanter_Flowrate  Temp_Bearing_NDE  \\\n",
       "2627  52.66777  73.753344  59.091043           4.438022         49.765103   \n",
       "2628  52.66777  73.753344  59.091043           4.438022         49.765103   \n",
       "2629  52.66777  73.753344  59.091043           4.438022         49.765103   \n",
       "2630  52.66777  73.753344  59.091043           4.438022         49.765103   \n",
       "2631  52.66777  73.753344  59.091043           4.438022         49.765103   \n",
       "\n",
       "      Temp_Bearing_DE  Vibration_Feed  Vibration_Driver  Vibration_Frame  \\\n",
       "2627        54.360617           22.60              25.0             21.0   \n",
       "2628        54.360617           24.02              23.0             16.0   \n",
       "2629        54.360617           26.89              16.0             22.0   \n",
       "2630        54.360617           19.99              14.0             20.0   \n",
       "2631        54.360617           25.67              23.0             16.8   \n",
       "\n",
       "      Blow_Speed_RPM  Diff_Speed_RPM    Torque  Severity  \n",
       "2627     3160.720527        1.349073  4.439894         4  \n",
       "2628     3160.720527        1.349073  4.439894         4  \n",
       "2629     3160.720527        1.349073  4.439894         4  \n",
       "2630     3160.720527        1.349073  4.439894         4  \n",
       "2631     3160.720527        1.349073  4.439894         4  "
      ]
     },
     "execution_count": 30,
     "metadata": {},
     "output_type": "execute_result"
    }
   ],
   "source": [
    "df_train.tail()"
   ]
  },
  {
   "cell_type": "code",
   "execution_count": 31,
   "metadata": {},
   "outputs": [
    {
     "data": {
      "text/plain": [
       "(2632, 13)"
      ]
     },
     "execution_count": 31,
     "metadata": {},
     "output_type": "execute_result"
    }
   ],
   "source": [
    "df_train.shape"
   ]
  },
  {
   "cell_type": "code",
   "execution_count": 32,
   "metadata": {},
   "outputs": [],
   "source": [
    "X = df_train.iloc[:,0:12].to_numpy() # Making training set"
   ]
  },
  {
   "cell_type": "code",
   "execution_count": 33,
   "metadata": {},
   "outputs": [
    {
     "data": {
      "text/plain": [
       "(2632, 12)"
      ]
     },
     "execution_count": 33,
     "metadata": {},
     "output_type": "execute_result"
    }
   ],
   "source": [
    "X.shape"
   ]
  },
  {
   "cell_type": "code",
   "execution_count": 34,
   "metadata": {},
   "outputs": [
    {
     "data": {
      "text/plain": [
       "array([[6.79361496e+01, 7.74671936e+01, 5.23349800e+01, ...,\n",
       "        3.17925757e+03, 1.40477645e+00, 3.19403315e+00],\n",
       "       [6.78354187e+01, 6.86102982e+01, 4.81866379e+01, ...,\n",
       "        3.18125195e+03, 1.40697062e+00, 3.03723359e+00],\n",
       "       [6.59035416e+01, 8.19158554e+01, 4.50283203e+01, ...,\n",
       "        3.18053979e+03, 1.40471375e+00, 2.84408927e+00],\n",
       "       ...,\n",
       "       [5.26677702e+01, 7.37533438e+01, 5.90910427e+01, ...,\n",
       "        3.16072053e+03, 1.34907322e+00, 4.43989426e+00],\n",
       "       [5.26677702e+01, 7.37533438e+01, 5.90910427e+01, ...,\n",
       "        3.16072053e+03, 1.34907322e+00, 4.43989426e+00],\n",
       "       [5.26677702e+01, 7.37533438e+01, 5.90910427e+01, ...,\n",
       "        3.16072053e+03, 1.34907322e+00, 4.43989426e+00]])"
      ]
     },
     "execution_count": 34,
     "metadata": {},
     "output_type": "execute_result"
    }
   ],
   "source": [
    "X"
   ]
  },
  {
   "cell_type": "code",
   "execution_count": 35,
   "metadata": {},
   "outputs": [],
   "source": [
    "y = df_train.iloc[:,12].to_numpy() # Making labels"
   ]
  },
  {
   "cell_type": "code",
   "execution_count": 36,
   "metadata": {},
   "outputs": [
    {
     "data": {
      "text/plain": [
       "(2632,)"
      ]
     },
     "execution_count": 36,
     "metadata": {},
     "output_type": "execute_result"
    }
   ],
   "source": [
    "y.shape"
   ]
  },
  {
   "cell_type": "code",
   "execution_count": 37,
   "metadata": {},
   "outputs": [
    {
     "data": {
      "text/plain": [
       "array([3, 3, 3, ..., 4, 4, 4], dtype=int64)"
      ]
     },
     "execution_count": 37,
     "metadata": {},
     "output_type": "execute_result"
    }
   ],
   "source": [
    "y"
   ]
  },
  {
   "cell_type": "code",
   "execution_count": 38,
   "metadata": {},
   "outputs": [],
   "source": [
    "features_list = list(df_train.columns[0:12])"
   ]
  },
  {
   "cell_type": "code",
   "execution_count": 39,
   "metadata": {},
   "outputs": [
    {
     "data": {
      "text/plain": [
       "['T_5551',\n",
       " 'T_5554',\n",
       " 'T_5552',\n",
       " 'Decanter_Flowrate',\n",
       " 'Temp_Bearing_NDE',\n",
       " 'Temp_Bearing_DE',\n",
       " 'Vibration_Feed',\n",
       " 'Vibration_Driver',\n",
       " 'Vibration_Frame',\n",
       " 'Blow_Speed_RPM',\n",
       " 'Diff_Speed_RPM',\n",
       " 'Torque']"
      ]
     },
     "execution_count": 39,
     "metadata": {},
     "output_type": "execute_result"
    }
   ],
   "source": [
    "features_list"
   ]
  },
  {
   "cell_type": "markdown",
   "metadata": {},
   "source": [
    "# Scaling Numerical Data"
   ]
  },
  {
   "cell_type": "code",
   "execution_count": 40,
   "metadata": {},
   "outputs": [],
   "source": [
    "#scaler = StandardScaler()"
   ]
  },
  {
   "cell_type": "code",
   "execution_count": 41,
   "metadata": {},
   "outputs": [],
   "source": [
    "#scaler.fit(X)"
   ]
  },
  {
   "cell_type": "code",
   "execution_count": 42,
   "metadata": {},
   "outputs": [],
   "source": [
    "#X = scaler.transform(X) # The dataset is now scaled from 0-1"
   ]
  },
  {
   "cell_type": "code",
   "execution_count": 43,
   "metadata": {},
   "outputs": [],
   "source": [
    "#X"
   ]
  },
  {
   "cell_type": "code",
   "execution_count": 44,
   "metadata": {},
   "outputs": [],
   "source": [
    "X_train, X_test, y_train, y_test = train_test_split(X, y, test_size = 0.2, random_state = 2022, shuffle=True, stratify=y) \n",
    "# Train/test split with 20% test size"
   ]
  },
  {
   "cell_type": "markdown",
   "metadata": {},
   "source": [
    "# Build Models"
   ]
  },
  {
   "cell_type": "markdown",
   "metadata": {},
   "source": [
    "Machine learning models that will be used are\n",
    "- LogisticRegression\n",
    "- KNeighborsClassifier\n",
    "- RandomForestClassifier"
   ]
  },
  {
   "cell_type": "markdown",
   "metadata": {},
   "source": []
  },
  {
   "cell_type": "code",
   "execution_count": null,
   "metadata": {},
   "outputs": [],
   "source": []
  },
  {
   "cell_type": "code",
   "execution_count": null,
   "metadata": {},
   "outputs": [],
   "source": []
  },
  {
   "cell_type": "code",
   "execution_count": null,
   "metadata": {},
   "outputs": [],
   "source": []
  },
  {
   "cell_type": "code",
   "execution_count": null,
   "metadata": {},
   "outputs": [],
   "source": []
  },
  {
   "cell_type": "code",
   "execution_count": null,
   "metadata": {},
   "outputs": [],
   "source": []
  },
  {
   "cell_type": "code",
   "execution_count": null,
   "metadata": {},
   "outputs": [],
   "source": []
  },
  {
   "cell_type": "code",
   "execution_count": null,
   "metadata": {},
   "outputs": [],
   "source": []
  },
  {
   "cell_type": "code",
   "execution_count": null,
   "metadata": {},
   "outputs": [],
   "source": []
  },
  {
   "cell_type": "code",
   "execution_count": null,
   "metadata": {},
   "outputs": [],
   "source": []
  },
  {
   "cell_type": "markdown",
   "metadata": {},
   "source": [
    "# Random Forest_Regressor"
   ]
  },
  {
   "cell_type": "code",
   "execution_count": 45,
   "metadata": {},
   "outputs": [],
   "source": [
    "# # Create the parameter grid based on the results of random search \n",
    "#param_grid = {\n",
    "#    'bootstrap': [True],\n",
    "#    'max_depth': [80, 90, 100],\n",
    "#    'max_features': [2, 3],\n",
    "#    'min_samples_leaf': [3, 4, 5],\n",
    "#    'min_samples_split': [8, 10, 12],\n",
    "#    'n_estimators': [100, 200, 300]\n",
    "#}\n",
    "## Create a based model\n",
    "#rfr = RandomForestRegressor()\n",
    "## Instantiate the grid search model\n",
    "#grid_search = GridSearchCV(estimator = rfr, param_grid = param_grid, \n",
    "#                          cv = 3, n_jobs = -1, verbose = 2)"
   ]
  },
  {
   "cell_type": "code",
   "execution_count": 46,
   "metadata": {},
   "outputs": [],
   "source": [
    "# Create the parameter grid based on the results of random search \n",
    "param_grid = {\n",
    "    'bootstrap': [True],\n",
    "    'max_depth': [100],\n",
    "    'max_features': [3],\n",
    "    'min_samples_leaf': [3],\n",
    "    'min_samples_split': [8],\n",
    "    'n_estimators': [200]\n",
    "}\n",
    "# Create a based model\n",
    "rfr = RandomForestRegressor()\n",
    "# Instantiate the grid search model\n",
    "grid_search = GridSearchCV(estimator = rfr, param_grid = param_grid, \n",
    "                          cv = 3, n_jobs = -1, verbose = 2)"
   ]
  },
  {
   "cell_type": "code",
   "execution_count": 47,
   "metadata": {},
   "outputs": [
    {
     "name": "stdout",
     "output_type": "stream",
     "text": [
      "Fitting 3 folds for each of 1 candidates, totalling 3 fits\n"
     ]
    },
    {
     "data": {
      "text/plain": [
       "GridSearchCV(cv=3, estimator=RandomForestRegressor(), n_jobs=-1,\n",
       "             param_grid={'bootstrap': [True], 'max_depth': [100],\n",
       "                         'max_features': [3], 'min_samples_leaf': [3],\n",
       "                         'min_samples_split': [8], 'n_estimators': [200]},\n",
       "             verbose=2)"
      ]
     },
     "execution_count": 47,
     "metadata": {},
     "output_type": "execute_result"
    }
   ],
   "source": [
    "# Fit the grid search to the data\n",
    "grid_search.fit(X_train, y_train)\n",
    "#grid_search.best_params_"
   ]
  },
  {
   "cell_type": "code",
   "execution_count": 48,
   "metadata": {},
   "outputs": [
    {
     "data": {
      "text/plain": [
       "{'bootstrap': True,\n",
       " 'max_depth': 100,\n",
       " 'max_features': 3,\n",
       " 'min_samples_leaf': 3,\n",
       " 'min_samples_split': 8,\n",
       " 'n_estimators': 200}"
      ]
     },
     "execution_count": 48,
     "metadata": {},
     "output_type": "execute_result"
    }
   ],
   "source": [
    "grid_search.best_params_"
   ]
  },
  {
   "cell_type": "code",
   "execution_count": 49,
   "metadata": {},
   "outputs": [
    {
     "name": "stdout",
     "output_type": "stream",
     "text": [
      "0.9098357957301014\n"
     ]
    }
   ],
   "source": [
    "y_test_pred_rfr = grid_search.predict(X_test)\n",
    "acc_rfr_r2_score = r2_score(y_test, y_test_pred_rfr)\n",
    "print(acc_rfr_r2_score)"
   ]
  },
  {
   "cell_type": "code",
   "execution_count": 50,
   "metadata": {},
   "outputs": [
    {
     "name": "stdout",
     "output_type": "stream",
     "text": [
      "0.03378872948810713\n"
     ]
    }
   ],
   "source": [
    "y_test_pred_rfr = grid_search.predict(X_test)\n",
    "acc_rfr_mean_squared_error = mean_squared_error(y_test, y_test_pred_rfr)\n",
    "print(acc_rfr_mean_squared_error)"
   ]
  },
  {
   "cell_type": "code",
   "execution_count": null,
   "metadata": {},
   "outputs": [],
   "source": []
  },
  {
   "cell_type": "code",
   "execution_count": null,
   "metadata": {},
   "outputs": [],
   "source": []
  },
  {
   "cell_type": "markdown",
   "metadata": {},
   "source": [
    "# Model Evaluation"
   ]
  },
  {
   "cell_type": "code",
   "execution_count": null,
   "metadata": {},
   "outputs": [],
   "source": []
  },
  {
   "cell_type": "code",
   "execution_count": null,
   "metadata": {},
   "outputs": [],
   "source": []
  },
  {
   "cell_type": "markdown",
   "metadata": {},
   "source": [
    "# Conclusion"
   ]
  },
  {
   "cell_type": "markdown",
   "metadata": {},
   "source": [
    "The best predictors based on accuracy score are Random Forest, follows by k-Nearest Neighbors, and Logistic Regression. The best parameters are as follows"
   ]
  },
  {
   "cell_type": "code",
   "execution_count": null,
   "metadata": {},
   "outputs": [],
   "source": []
  },
  {
   "cell_type": "markdown",
   "metadata": {},
   "source": [
    "# Making Submission File"
   ]
  },
  {
   "cell_type": "markdown",
   "metadata": {},
   "source": [
    " "
   ]
  },
  {
   "cell_type": "code",
   "execution_count": 32,
   "metadata": {},
   "outputs": [],
   "source": [
    "df_pred = pd.read_excel('20220819_NewDecanter-RawData_20220805-20220814_Implement.xlsx')"
   ]
  },
  {
   "cell_type": "code",
   "execution_count": 33,
   "metadata": {
    "scrolled": true
   },
   "outputs": [
    {
     "data": {
      "text/html": [
       "<div>\n",
       "<style scoped>\n",
       "    .dataframe tbody tr th:only-of-type {\n",
       "        vertical-align: middle;\n",
       "    }\n",
       "\n",
       "    .dataframe tbody tr th {\n",
       "        vertical-align: top;\n",
       "    }\n",
       "\n",
       "    .dataframe thead th {\n",
       "        text-align: right;\n",
       "    }\n",
       "</style>\n",
       "<table border=\"1\" class=\"dataframe\">\n",
       "  <thead>\n",
       "    <tr style=\"text-align: right;\">\n",
       "      <th></th>\n",
       "      <th>Date</th>\n",
       "      <th>T-5551</th>\n",
       "      <th>T-5554</th>\n",
       "      <th>T-5552</th>\n",
       "      <th>Decanter Flowrate</th>\n",
       "      <th>Temp bearing</th>\n",
       "      <th>Temp bearing.1</th>\n",
       "      <th>Vibration (Feed)</th>\n",
       "      <th>Vibration (Driver)</th>\n",
       "      <th>Vibration (Frame)</th>\n",
       "      <th>Blow speed (RPM)</th>\n",
       "      <th>Diff speed (RPM)</th>\n",
       "      <th>Torque (%)</th>\n",
       "      <th>Severity</th>\n",
       "    </tr>\n",
       "  </thead>\n",
       "  <tbody>\n",
       "    <tr>\n",
       "      <th>0</th>\n",
       "      <td>2022-08-05 01:00:00</td>\n",
       "      <td>32.208611</td>\n",
       "      <td>70.495956</td>\n",
       "      <td>50.789150</td>\n",
       "      <td>0.003036</td>\n",
       "      <td>37.991955</td>\n",
       "      <td>40.400871</td>\n",
       "      <td>0.107810</td>\n",
       "      <td>0.096917</td>\n",
       "      <td>-0.045779</td>\n",
       "      <td>-3.938236</td>\n",
       "      <td>-0.023145</td>\n",
       "      <td>0.187813</td>\n",
       "      <td>NaN</td>\n",
       "    </tr>\n",
       "    <tr>\n",
       "      <th>1</th>\n",
       "      <td>2022-08-05 02:00:00</td>\n",
       "      <td>32.374252</td>\n",
       "      <td>71.371231</td>\n",
       "      <td>49.894035</td>\n",
       "      <td>0.003823</td>\n",
       "      <td>35.266655</td>\n",
       "      <td>36.967213</td>\n",
       "      <td>0.113241</td>\n",
       "      <td>0.103617</td>\n",
       "      <td>-0.045776</td>\n",
       "      <td>-3.865058</td>\n",
       "      <td>-0.021069</td>\n",
       "      <td>0.159424</td>\n",
       "      <td>NaN</td>\n",
       "    </tr>\n",
       "    <tr>\n",
       "      <th>2</th>\n",
       "      <td>2022-08-05 03:00:00</td>\n",
       "      <td>32.493065</td>\n",
       "      <td>72.135483</td>\n",
       "      <td>50.071583</td>\n",
       "      <td>0.003157</td>\n",
       "      <td>33.619564</td>\n",
       "      <td>34.744221</td>\n",
       "      <td>0.104133</td>\n",
       "      <td>0.094712</td>\n",
       "      <td>-0.047202</td>\n",
       "      <td>-3.827369</td>\n",
       "      <td>-0.021001</td>\n",
       "      <td>0.144010</td>\n",
       "      <td>NaN</td>\n",
       "    </tr>\n",
       "    <tr>\n",
       "      <th>3</th>\n",
       "      <td>2022-08-05 04:00:00</td>\n",
       "      <td>33.248547</td>\n",
       "      <td>72.015831</td>\n",
       "      <td>49.890583</td>\n",
       "      <td>0.002911</td>\n",
       "      <td>32.451893</td>\n",
       "      <td>33.493767</td>\n",
       "      <td>0.101984</td>\n",
       "      <td>0.084537</td>\n",
       "      <td>-0.045751</td>\n",
       "      <td>-3.917721</td>\n",
       "      <td>-0.020724</td>\n",
       "      <td>0.143914</td>\n",
       "      <td>NaN</td>\n",
       "    </tr>\n",
       "    <tr>\n",
       "      <th>4</th>\n",
       "      <td>2022-08-05 05:00:00</td>\n",
       "      <td>33.315788</td>\n",
       "      <td>72.254433</td>\n",
       "      <td>50.082134</td>\n",
       "      <td>0.004222</td>\n",
       "      <td>31.904119</td>\n",
       "      <td>32.609093</td>\n",
       "      <td>0.102283</td>\n",
       "      <td>0.093264</td>\n",
       "      <td>-0.045662</td>\n",
       "      <td>-4.042665</td>\n",
       "      <td>-0.022636</td>\n",
       "      <td>0.125696</td>\n",
       "      <td>NaN</td>\n",
       "    </tr>\n",
       "    <tr>\n",
       "      <th>...</th>\n",
       "      <td>...</td>\n",
       "      <td>...</td>\n",
       "      <td>...</td>\n",
       "      <td>...</td>\n",
       "      <td>...</td>\n",
       "      <td>...</td>\n",
       "      <td>...</td>\n",
       "      <td>...</td>\n",
       "      <td>...</td>\n",
       "      <td>...</td>\n",
       "      <td>...</td>\n",
       "      <td>...</td>\n",
       "      <td>...</td>\n",
       "      <td>...</td>\n",
       "    </tr>\n",
       "    <tr>\n",
       "      <th>235</th>\n",
       "      <td>2022-08-14 20:00:00</td>\n",
       "      <td>46.159138</td>\n",
       "      <td>76.801140</td>\n",
       "      <td>50.079502</td>\n",
       "      <td>0.004221</td>\n",
       "      <td>34.695885</td>\n",
       "      <td>33.076050</td>\n",
       "      <td>0.104000</td>\n",
       "      <td>0.093498</td>\n",
       "      <td>-0.045883</td>\n",
       "      <td>-0.359330</td>\n",
       "      <td>-0.024723</td>\n",
       "      <td>0.118995</td>\n",
       "      <td>NaN</td>\n",
       "    </tr>\n",
       "    <tr>\n",
       "      <th>236</th>\n",
       "      <td>2022-08-14 21:00:00</td>\n",
       "      <td>49.993687</td>\n",
       "      <td>76.875786</td>\n",
       "      <td>50.070919</td>\n",
       "      <td>0.004314</td>\n",
       "      <td>34.007282</td>\n",
       "      <td>32.704453</td>\n",
       "      <td>0.106845</td>\n",
       "      <td>0.097706</td>\n",
       "      <td>-0.045880</td>\n",
       "      <td>-0.237000</td>\n",
       "      <td>-0.020543</td>\n",
       "      <td>0.113270</td>\n",
       "      <td>NaN</td>\n",
       "    </tr>\n",
       "    <tr>\n",
       "      <th>237</th>\n",
       "      <td>2022-08-14 22:00:00</td>\n",
       "      <td>52.738567</td>\n",
       "      <td>76.785690</td>\n",
       "      <td>50.023743</td>\n",
       "      <td>0.003544</td>\n",
       "      <td>33.383522</td>\n",
       "      <td>32.179310</td>\n",
       "      <td>0.103860</td>\n",
       "      <td>0.091886</td>\n",
       "      <td>-0.045776</td>\n",
       "      <td>-0.048069</td>\n",
       "      <td>-0.017303</td>\n",
       "      <td>0.120044</td>\n",
       "      <td>NaN</td>\n",
       "    </tr>\n",
       "    <tr>\n",
       "      <th>238</th>\n",
       "      <td>2022-08-14 23:00:00</td>\n",
       "      <td>52.779434</td>\n",
       "      <td>76.838661</td>\n",
       "      <td>49.929195</td>\n",
       "      <td>0.003215</td>\n",
       "      <td>32.820461</td>\n",
       "      <td>31.874279</td>\n",
       "      <td>0.107080</td>\n",
       "      <td>0.099006</td>\n",
       "      <td>-0.045866</td>\n",
       "      <td>-0.306246</td>\n",
       "      <td>-0.021945</td>\n",
       "      <td>0.119307</td>\n",
       "      <td>NaN</td>\n",
       "    </tr>\n",
       "    <tr>\n",
       "      <th>239</th>\n",
       "      <td>2022-08-15 00:00:00</td>\n",
       "      <td>52.931606</td>\n",
       "      <td>76.848816</td>\n",
       "      <td>49.894352</td>\n",
       "      <td>0.004399</td>\n",
       "      <td>32.299679</td>\n",
       "      <td>31.490393</td>\n",
       "      <td>0.106721</td>\n",
       "      <td>0.093372</td>\n",
       "      <td>-0.045776</td>\n",
       "      <td>-0.203180</td>\n",
       "      <td>-0.024231</td>\n",
       "      <td>0.125063</td>\n",
       "      <td>NaN</td>\n",
       "    </tr>\n",
       "  </tbody>\n",
       "</table>\n",
       "<p>240 rows × 14 columns</p>\n",
       "</div>"
      ],
      "text/plain": [
       "                   Date     T-5551     T-5554     T-5552  Decanter Flowrate  \\\n",
       "0   2022-08-05 01:00:00  32.208611  70.495956  50.789150           0.003036   \n",
       "1   2022-08-05 02:00:00  32.374252  71.371231  49.894035           0.003823   \n",
       "2   2022-08-05 03:00:00  32.493065  72.135483  50.071583           0.003157   \n",
       "3   2022-08-05 04:00:00  33.248547  72.015831  49.890583           0.002911   \n",
       "4   2022-08-05 05:00:00  33.315788  72.254433  50.082134           0.004222   \n",
       "..                  ...        ...        ...        ...                ...   \n",
       "235 2022-08-14 20:00:00  46.159138  76.801140  50.079502           0.004221   \n",
       "236 2022-08-14 21:00:00  49.993687  76.875786  50.070919           0.004314   \n",
       "237 2022-08-14 22:00:00  52.738567  76.785690  50.023743           0.003544   \n",
       "238 2022-08-14 23:00:00  52.779434  76.838661  49.929195           0.003215   \n",
       "239 2022-08-15 00:00:00  52.931606  76.848816  49.894352           0.004399   \n",
       "\n",
       "     Temp bearing  Temp bearing.1  Vibration (Feed)  Vibration (Driver)  \\\n",
       "0       37.991955       40.400871          0.107810            0.096917   \n",
       "1       35.266655       36.967213          0.113241            0.103617   \n",
       "2       33.619564       34.744221          0.104133            0.094712   \n",
       "3       32.451893       33.493767          0.101984            0.084537   \n",
       "4       31.904119       32.609093          0.102283            0.093264   \n",
       "..            ...             ...               ...                 ...   \n",
       "235     34.695885       33.076050          0.104000            0.093498   \n",
       "236     34.007282       32.704453          0.106845            0.097706   \n",
       "237     33.383522       32.179310          0.103860            0.091886   \n",
       "238     32.820461       31.874279          0.107080            0.099006   \n",
       "239     32.299679       31.490393          0.106721            0.093372   \n",
       "\n",
       "     Vibration (Frame)  Blow speed (RPM)  Diff speed (RPM)  Torque (%)  \\\n",
       "0            -0.045779         -3.938236         -0.023145    0.187813   \n",
       "1            -0.045776         -3.865058         -0.021069    0.159424   \n",
       "2            -0.047202         -3.827369         -0.021001    0.144010   \n",
       "3            -0.045751         -3.917721         -0.020724    0.143914   \n",
       "4            -0.045662         -4.042665         -0.022636    0.125696   \n",
       "..                 ...               ...               ...         ...   \n",
       "235          -0.045883         -0.359330         -0.024723    0.118995   \n",
       "236          -0.045880         -0.237000         -0.020543    0.113270   \n",
       "237          -0.045776         -0.048069         -0.017303    0.120044   \n",
       "238          -0.045866         -0.306246         -0.021945    0.119307   \n",
       "239          -0.045776         -0.203180         -0.024231    0.125063   \n",
       "\n",
       "     Severity  \n",
       "0         NaN  \n",
       "1         NaN  \n",
       "2         NaN  \n",
       "3         NaN  \n",
       "4         NaN  \n",
       "..        ...  \n",
       "235       NaN  \n",
       "236       NaN  \n",
       "237       NaN  \n",
       "238       NaN  \n",
       "239       NaN  \n",
       "\n",
       "[240 rows x 14 columns]"
      ]
     },
     "execution_count": 33,
     "metadata": {},
     "output_type": "execute_result"
    }
   ],
   "source": [
    "df_pred"
   ]
  },
  {
   "cell_type": "code",
   "execution_count": 34,
   "metadata": {},
   "outputs": [],
   "source": [
    "X_submission = df_pred.iloc[:,1:13].to_numpy()"
   ]
  },
  {
   "cell_type": "code",
   "execution_count": 35,
   "metadata": {
    "scrolled": true
   },
   "outputs": [
    {
     "data": {
      "text/plain": [
       "array([[ 3.22086105e+01,  7.04959564e+01,  5.07891502e+01, ...,\n",
       "        -3.93823600e+00, -2.31453850e-02,  1.87813088e-01],\n",
       "       [ 3.23742523e+01,  7.13712311e+01,  4.98940353e+01, ...,\n",
       "        -3.86505818e+00, -2.10693800e-02,  1.59424007e-01],\n",
       "       [ 3.24930649e+01,  7.21354828e+01,  5.00715828e+01, ...,\n",
       "        -3.82736874e+00, -2.10011900e-02,  1.44010454e-01],\n",
       "       ...,\n",
       "       [ 5.27385673e+01,  7.67856903e+01,  5.00237427e+01, ...,\n",
       "        -4.80686350e-02, -1.73026570e-02,  1.20044477e-01],\n",
       "       [ 5.27794342e+01,  7.68386612e+01,  4.99291954e+01, ...,\n",
       "        -3.06245983e-01, -2.19452190e-02,  1.19306542e-01],\n",
       "       [ 5.29316063e+01,  7.68488159e+01,  4.98943520e+01, ...,\n",
       "        -2.03179687e-01, -2.42310110e-02,  1.25062764e-01]])"
      ]
     },
     "execution_count": 35,
     "metadata": {},
     "output_type": "execute_result"
    }
   ],
   "source": [
    "X_submission "
   ]
  },
  {
   "cell_type": "code",
   "execution_count": 36,
   "metadata": {},
   "outputs": [],
   "source": [
    "X_submission = scaler.transform(X_submission) # Scale the test dataset"
   ]
  },
  {
   "cell_type": "code",
   "execution_count": 37,
   "metadata": {},
   "outputs": [
    {
     "data": {
      "text/plain": [
       "array([[-1.60379806, -0.23343008, -0.44867586, ..., -1.10845571,\n",
       "        -0.56611725, -0.78609248],\n",
       "       [-1.59139676, -0.10184863, -0.53650684, ..., -1.10840945,\n",
       "        -0.56461632, -0.79563802],\n",
       "       [-1.58250148,  0.01304256, -0.51908543, ..., -1.10838562,\n",
       "        -0.56456702, -0.80082066],\n",
       "       ...,\n",
       "       [-0.06675745,  0.71211575, -0.52377962, ..., -1.10599607,\n",
       "        -0.56189303, -0.80887897],\n",
       "       [-0.06369782,  0.72007895, -0.53305685, ..., -1.10615931,\n",
       "        -0.56524954, -0.8091271 ],\n",
       "       [-0.05230497,  0.72160552, -0.53647577, ..., -1.10609415,\n",
       "        -0.56690214, -0.80719163]])"
      ]
     },
     "execution_count": 37,
     "metadata": {},
     "output_type": "execute_result"
    }
   ],
   "source": [
    "X_submission"
   ]
  },
  {
   "cell_type": "markdown",
   "metadata": {},
   "source": [
    "# Implement Phase for RFR"
   ]
  },
  {
   "cell_type": "code",
   "execution_count": 40,
   "metadata": {},
   "outputs": [],
   "source": [
    "y_pred_sub_rfr = grid_search.predict(X_submission)"
   ]
  },
  {
   "cell_type": "code",
   "execution_count": 41,
   "metadata": {},
   "outputs": [
    {
     "data": {
      "text/plain": [
       "array([2.02195635, 2.05667857, 2.01291667, 2.00534524, 2.00066071,\n",
       "       2.00275   , 2.02486905, 2.00416667, 2.00475   , 2.03085714,\n",
       "       2.00454167, 2.02579167, 2.02702579, 2.01854762, 2.06472619,\n",
       "       2.18022024, 2.21719643, 2.20392262, 2.0533869 , 2.05308333,\n",
       "       2.05808333, 2.15277922, 2.05025   , 2.07520833, 2.153288  ,\n",
       "       2.13968086, 2.18295238, 2.18373214, 2.18867316, 2.21461905,\n",
       "       2.23966667, 2.19389286, 2.15080556, 2.19759722, 2.15858333,\n",
       "       2.18708929, 2.2905496 , 2.3949623 , 2.52781349, 2.6878254 ,\n",
       "       2.74919841, 2.38476371, 2.85169066, 2.85109542, 2.48416522,\n",
       "       2.27697421, 2.34056133, 2.13941126, 2.185     , 2.20183333,\n",
       "       2.20930357, 2.23826786, 2.3182123 , 2.32783532, 2.2574881 ,\n",
       "       2.22910714, 2.97705952, 2.98120617, 2.97852976, 2.98351569,\n",
       "       2.98116071, 2.98737284, 2.97614881, 2.98137121, 3.00345833,\n",
       "       2.99991071, 2.99491071, 2.98487879, 2.99830952, 2.98465476,\n",
       "       2.9907381 , 2.99049405, 2.98544444, 2.98048016, 2.97305159,\n",
       "       2.97527778, 2.97681349, 2.97836111, 2.97123016, 2.96821825,\n",
       "       2.96713889, 2.97348611, 2.98437897, 2.97577778, 2.96660516,\n",
       "       2.14395833, 2.18159722, 2.18447619, 2.63949116, 2.77123124,\n",
       "       2.83181396, 2.82056847, 2.84628276, 2.83787601, 2.84118554,\n",
       "       2.84571331, 2.83156595, 2.84106595, 3.15532785, 3.22744149,\n",
       "       3.21462204, 3.21592507, 3.18751436, 3.2257465 , 1.99393346,\n",
       "       3.20288792, 2.97074405, 2.96175   , 2.97160714, 3.12724145,\n",
       "       3.08485365, 3.04541108, 2.90733522, 2.94985888, 3.01421245,\n",
       "       2.20574098, 2.93319171, 3.00695418, 2.99938095, 3.00262937,\n",
       "       3.01657937, 3.01342262, 2.56617365, 2.180625  , 2.01348629,\n",
       "       2.02462915, 2.02631962, 2.0387978 , 2.05623611, 2.05998016,\n",
       "       2.04117496, 2.01185534, 1.99674008, 2.00731548, 2.01005159,\n",
       "       2.01634325, 2.00159325, 2.00431566, 1.99632756, 2.00258443,\n",
       "       1.98875272, 1.97001282, 1.98920726, 1.99511111, 2.00983333,\n",
       "       2.00791667, 2.00196429, 2.00958333, 2.00133333, 1.99710714,\n",
       "       2.01313095, 2.02041667, 2.00798611, 2.01229167, 3.08775062,\n",
       "       3.309446  , 2.1268382 , 2.11265043, 2.1102289 , 2.10266937,\n",
       "       2.10454437, 2.0949789 , 2.10608207, 2.10256223, 2.09524675,\n",
       "       2.09392426, 2.10402148, 2.11924893, 2.07471376, 2.09581513,\n",
       "       2.15859398, 2.11419517, 2.16377255, 2.1057785 , 2.14567136,\n",
       "       2.14801751, 2.21677958, 2.32609697, 2.84868579, 2.09254798,\n",
       "       2.99059361, 2.97563528, 2.98371861, 3.00527814, 2.99701028,\n",
       "       2.98242695, 3.00721861, 2.99280195, 3.57074466, 3.03792007,\n",
       "       2.87701623, 2.91879899, 2.8968631 , 2.95481126, 2.41428012,\n",
       "       2.98871591, 2.97625162, 2.90236526, 2.74997511, 2.08238717,\n",
       "       2.84783389, 2.06261562, 2.95842063, 2.95656385, 2.84463356,\n",
       "       2.06159037, 2.10816811, 2.53235907, 2.97675366, 2.95052513,\n",
       "       2.03728608, 2.98648972, 3.00075   , 2.56395983, 2.5260653 ,\n",
       "       2.99343056, 3.46780439, 2.85868344, 2.85161268, 2.86642587,\n",
       "       2.86058658, 2.86087825, 2.82642545, 2.82729053, 2.86222763,\n",
       "       2.12219931, 2.14168903, 2.14172276, 2.16235408, 2.13977579,\n",
       "       2.14089809, 2.15132413, 2.12946104, 2.15701461, 2.111125  ,\n",
       "       2.14929239, 2.13487572, 2.11619517, 2.17384596, 2.1479035 ])"
      ]
     },
     "execution_count": 41,
     "metadata": {},
     "output_type": "execute_result"
    }
   ],
   "source": [
    "y_pred_sub_rfr"
   ]
  },
  {
   "cell_type": "code",
   "execution_count": 42,
   "metadata": {},
   "outputs": [],
   "source": [
    "y_pred_sub_rfr = pd.Series(y_pred_sub_rfr, name='Severity')"
   ]
  },
  {
   "cell_type": "code",
   "execution_count": 43,
   "metadata": {},
   "outputs": [],
   "source": [
    "df_submission_rfr = pd.concat([df_pred.iloc[:,:1], df_pred.iloc[:,1:13], pd.Series(y_pred_sub_rfr)], axis=1)"
   ]
  },
  {
   "cell_type": "code",
   "execution_count": 44,
   "metadata": {},
   "outputs": [
    {
     "data": {
      "text/html": [
       "<div>\n",
       "<style scoped>\n",
       "    .dataframe tbody tr th:only-of-type {\n",
       "        vertical-align: middle;\n",
       "    }\n",
       "\n",
       "    .dataframe tbody tr th {\n",
       "        vertical-align: top;\n",
       "    }\n",
       "\n",
       "    .dataframe thead th {\n",
       "        text-align: right;\n",
       "    }\n",
       "</style>\n",
       "<table border=\"1\" class=\"dataframe\">\n",
       "  <thead>\n",
       "    <tr style=\"text-align: right;\">\n",
       "      <th></th>\n",
       "      <th>Date</th>\n",
       "      <th>T-5551</th>\n",
       "      <th>T-5554</th>\n",
       "      <th>T-5552</th>\n",
       "      <th>Decanter Flowrate</th>\n",
       "      <th>Temp bearing</th>\n",
       "      <th>Temp bearing.1</th>\n",
       "      <th>Vibration (Feed)</th>\n",
       "      <th>Vibration (Driver)</th>\n",
       "      <th>Vibration (Frame)</th>\n",
       "      <th>Blow speed (RPM)</th>\n",
       "      <th>Diff speed (RPM)</th>\n",
       "      <th>Torque (%)</th>\n",
       "      <th>Severity</th>\n",
       "    </tr>\n",
       "  </thead>\n",
       "  <tbody>\n",
       "    <tr>\n",
       "      <th>0</th>\n",
       "      <td>2022-08-05 01:00:00</td>\n",
       "      <td>32.208611</td>\n",
       "      <td>70.495956</td>\n",
       "      <td>50.789150</td>\n",
       "      <td>0.003036</td>\n",
       "      <td>37.991955</td>\n",
       "      <td>40.400871</td>\n",
       "      <td>0.107810</td>\n",
       "      <td>0.096917</td>\n",
       "      <td>-0.045779</td>\n",
       "      <td>-3.938236</td>\n",
       "      <td>-0.023145</td>\n",
       "      <td>0.187813</td>\n",
       "      <td>2.021956</td>\n",
       "    </tr>\n",
       "    <tr>\n",
       "      <th>1</th>\n",
       "      <td>2022-08-05 02:00:00</td>\n",
       "      <td>32.374252</td>\n",
       "      <td>71.371231</td>\n",
       "      <td>49.894035</td>\n",
       "      <td>0.003823</td>\n",
       "      <td>35.266655</td>\n",
       "      <td>36.967213</td>\n",
       "      <td>0.113241</td>\n",
       "      <td>0.103617</td>\n",
       "      <td>-0.045776</td>\n",
       "      <td>-3.865058</td>\n",
       "      <td>-0.021069</td>\n",
       "      <td>0.159424</td>\n",
       "      <td>2.056679</td>\n",
       "    </tr>\n",
       "    <tr>\n",
       "      <th>2</th>\n",
       "      <td>2022-08-05 03:00:00</td>\n",
       "      <td>32.493065</td>\n",
       "      <td>72.135483</td>\n",
       "      <td>50.071583</td>\n",
       "      <td>0.003157</td>\n",
       "      <td>33.619564</td>\n",
       "      <td>34.744221</td>\n",
       "      <td>0.104133</td>\n",
       "      <td>0.094712</td>\n",
       "      <td>-0.047202</td>\n",
       "      <td>-3.827369</td>\n",
       "      <td>-0.021001</td>\n",
       "      <td>0.144010</td>\n",
       "      <td>2.012917</td>\n",
       "    </tr>\n",
       "    <tr>\n",
       "      <th>3</th>\n",
       "      <td>2022-08-05 04:00:00</td>\n",
       "      <td>33.248547</td>\n",
       "      <td>72.015831</td>\n",
       "      <td>49.890583</td>\n",
       "      <td>0.002911</td>\n",
       "      <td>32.451893</td>\n",
       "      <td>33.493767</td>\n",
       "      <td>0.101984</td>\n",
       "      <td>0.084537</td>\n",
       "      <td>-0.045751</td>\n",
       "      <td>-3.917721</td>\n",
       "      <td>-0.020724</td>\n",
       "      <td>0.143914</td>\n",
       "      <td>2.005345</td>\n",
       "    </tr>\n",
       "    <tr>\n",
       "      <th>4</th>\n",
       "      <td>2022-08-05 05:00:00</td>\n",
       "      <td>33.315788</td>\n",
       "      <td>72.254433</td>\n",
       "      <td>50.082134</td>\n",
       "      <td>0.004222</td>\n",
       "      <td>31.904119</td>\n",
       "      <td>32.609093</td>\n",
       "      <td>0.102283</td>\n",
       "      <td>0.093264</td>\n",
       "      <td>-0.045662</td>\n",
       "      <td>-4.042665</td>\n",
       "      <td>-0.022636</td>\n",
       "      <td>0.125696</td>\n",
       "      <td>2.000661</td>\n",
       "    </tr>\n",
       "    <tr>\n",
       "      <th>...</th>\n",
       "      <td>...</td>\n",
       "      <td>...</td>\n",
       "      <td>...</td>\n",
       "      <td>...</td>\n",
       "      <td>...</td>\n",
       "      <td>...</td>\n",
       "      <td>...</td>\n",
       "      <td>...</td>\n",
       "      <td>...</td>\n",
       "      <td>...</td>\n",
       "      <td>...</td>\n",
       "      <td>...</td>\n",
       "      <td>...</td>\n",
       "      <td>...</td>\n",
       "    </tr>\n",
       "    <tr>\n",
       "      <th>235</th>\n",
       "      <td>2022-08-14 20:00:00</td>\n",
       "      <td>46.159138</td>\n",
       "      <td>76.801140</td>\n",
       "      <td>50.079502</td>\n",
       "      <td>0.004221</td>\n",
       "      <td>34.695885</td>\n",
       "      <td>33.076050</td>\n",
       "      <td>0.104000</td>\n",
       "      <td>0.093498</td>\n",
       "      <td>-0.045883</td>\n",
       "      <td>-0.359330</td>\n",
       "      <td>-0.024723</td>\n",
       "      <td>0.118995</td>\n",
       "      <td>2.149292</td>\n",
       "    </tr>\n",
       "    <tr>\n",
       "      <th>236</th>\n",
       "      <td>2022-08-14 21:00:00</td>\n",
       "      <td>49.993687</td>\n",
       "      <td>76.875786</td>\n",
       "      <td>50.070919</td>\n",
       "      <td>0.004314</td>\n",
       "      <td>34.007282</td>\n",
       "      <td>32.704453</td>\n",
       "      <td>0.106845</td>\n",
       "      <td>0.097706</td>\n",
       "      <td>-0.045880</td>\n",
       "      <td>-0.237000</td>\n",
       "      <td>-0.020543</td>\n",
       "      <td>0.113270</td>\n",
       "      <td>2.134876</td>\n",
       "    </tr>\n",
       "    <tr>\n",
       "      <th>237</th>\n",
       "      <td>2022-08-14 22:00:00</td>\n",
       "      <td>52.738567</td>\n",
       "      <td>76.785690</td>\n",
       "      <td>50.023743</td>\n",
       "      <td>0.003544</td>\n",
       "      <td>33.383522</td>\n",
       "      <td>32.179310</td>\n",
       "      <td>0.103860</td>\n",
       "      <td>0.091886</td>\n",
       "      <td>-0.045776</td>\n",
       "      <td>-0.048069</td>\n",
       "      <td>-0.017303</td>\n",
       "      <td>0.120044</td>\n",
       "      <td>2.116195</td>\n",
       "    </tr>\n",
       "    <tr>\n",
       "      <th>238</th>\n",
       "      <td>2022-08-14 23:00:00</td>\n",
       "      <td>52.779434</td>\n",
       "      <td>76.838661</td>\n",
       "      <td>49.929195</td>\n",
       "      <td>0.003215</td>\n",
       "      <td>32.820461</td>\n",
       "      <td>31.874279</td>\n",
       "      <td>0.107080</td>\n",
       "      <td>0.099006</td>\n",
       "      <td>-0.045866</td>\n",
       "      <td>-0.306246</td>\n",
       "      <td>-0.021945</td>\n",
       "      <td>0.119307</td>\n",
       "      <td>2.173846</td>\n",
       "    </tr>\n",
       "    <tr>\n",
       "      <th>239</th>\n",
       "      <td>2022-08-15 00:00:00</td>\n",
       "      <td>52.931606</td>\n",
       "      <td>76.848816</td>\n",
       "      <td>49.894352</td>\n",
       "      <td>0.004399</td>\n",
       "      <td>32.299679</td>\n",
       "      <td>31.490393</td>\n",
       "      <td>0.106721</td>\n",
       "      <td>0.093372</td>\n",
       "      <td>-0.045776</td>\n",
       "      <td>-0.203180</td>\n",
       "      <td>-0.024231</td>\n",
       "      <td>0.125063</td>\n",
       "      <td>2.147903</td>\n",
       "    </tr>\n",
       "  </tbody>\n",
       "</table>\n",
       "<p>240 rows × 14 columns</p>\n",
       "</div>"
      ],
      "text/plain": [
       "                   Date     T-5551     T-5554     T-5552  Decanter Flowrate  \\\n",
       "0   2022-08-05 01:00:00  32.208611  70.495956  50.789150           0.003036   \n",
       "1   2022-08-05 02:00:00  32.374252  71.371231  49.894035           0.003823   \n",
       "2   2022-08-05 03:00:00  32.493065  72.135483  50.071583           0.003157   \n",
       "3   2022-08-05 04:00:00  33.248547  72.015831  49.890583           0.002911   \n",
       "4   2022-08-05 05:00:00  33.315788  72.254433  50.082134           0.004222   \n",
       "..                  ...        ...        ...        ...                ...   \n",
       "235 2022-08-14 20:00:00  46.159138  76.801140  50.079502           0.004221   \n",
       "236 2022-08-14 21:00:00  49.993687  76.875786  50.070919           0.004314   \n",
       "237 2022-08-14 22:00:00  52.738567  76.785690  50.023743           0.003544   \n",
       "238 2022-08-14 23:00:00  52.779434  76.838661  49.929195           0.003215   \n",
       "239 2022-08-15 00:00:00  52.931606  76.848816  49.894352           0.004399   \n",
       "\n",
       "     Temp bearing  Temp bearing.1  Vibration (Feed)  Vibration (Driver)  \\\n",
       "0       37.991955       40.400871          0.107810            0.096917   \n",
       "1       35.266655       36.967213          0.113241            0.103617   \n",
       "2       33.619564       34.744221          0.104133            0.094712   \n",
       "3       32.451893       33.493767          0.101984            0.084537   \n",
       "4       31.904119       32.609093          0.102283            0.093264   \n",
       "..            ...             ...               ...                 ...   \n",
       "235     34.695885       33.076050          0.104000            0.093498   \n",
       "236     34.007282       32.704453          0.106845            0.097706   \n",
       "237     33.383522       32.179310          0.103860            0.091886   \n",
       "238     32.820461       31.874279          0.107080            0.099006   \n",
       "239     32.299679       31.490393          0.106721            0.093372   \n",
       "\n",
       "     Vibration (Frame)  Blow speed (RPM)  Diff speed (RPM)  Torque (%)  \\\n",
       "0            -0.045779         -3.938236         -0.023145    0.187813   \n",
       "1            -0.045776         -3.865058         -0.021069    0.159424   \n",
       "2            -0.047202         -3.827369         -0.021001    0.144010   \n",
       "3            -0.045751         -3.917721         -0.020724    0.143914   \n",
       "4            -0.045662         -4.042665         -0.022636    0.125696   \n",
       "..                 ...               ...               ...         ...   \n",
       "235          -0.045883         -0.359330         -0.024723    0.118995   \n",
       "236          -0.045880         -0.237000         -0.020543    0.113270   \n",
       "237          -0.045776         -0.048069         -0.017303    0.120044   \n",
       "238          -0.045866         -0.306246         -0.021945    0.119307   \n",
       "239          -0.045776         -0.203180         -0.024231    0.125063   \n",
       "\n",
       "     Severity  \n",
       "0    2.021956  \n",
       "1    2.056679  \n",
       "2    2.012917  \n",
       "3    2.005345  \n",
       "4    2.000661  \n",
       "..        ...  \n",
       "235  2.149292  \n",
       "236  2.134876  \n",
       "237  2.116195  \n",
       "238  2.173846  \n",
       "239  2.147903  \n",
       "\n",
       "[240 rows x 14 columns]"
      ]
     },
     "execution_count": 44,
     "metadata": {},
     "output_type": "execute_result"
    }
   ],
   "source": [
    "df_submission_rfr"
   ]
  },
  {
   "cell_type": "code",
   "execution_count": 45,
   "metadata": {},
   "outputs": [
    {
     "data": {
      "text/html": [
       "<div>\n",
       "<style scoped>\n",
       "    .dataframe tbody tr th:only-of-type {\n",
       "        vertical-align: middle;\n",
       "    }\n",
       "\n",
       "    .dataframe tbody tr th {\n",
       "        vertical-align: top;\n",
       "    }\n",
       "\n",
       "    .dataframe thead th {\n",
       "        text-align: right;\n",
       "    }\n",
       "</style>\n",
       "<table border=\"1\" class=\"dataframe\">\n",
       "  <thead>\n",
       "    <tr style=\"text-align: right;\">\n",
       "      <th></th>\n",
       "      <th>Date</th>\n",
       "      <th>T-5551</th>\n",
       "      <th>T-5554</th>\n",
       "      <th>T-5552</th>\n",
       "      <th>Decanter Flowrate</th>\n",
       "      <th>Temp bearing</th>\n",
       "      <th>Temp bearing.1</th>\n",
       "      <th>Vibration (Feed)</th>\n",
       "      <th>Vibration (Driver)</th>\n",
       "      <th>Vibration (Frame)</th>\n",
       "      <th>Blow speed (RPM)</th>\n",
       "      <th>Diff speed (RPM)</th>\n",
       "      <th>Torque (%)</th>\n",
       "      <th>Severity</th>\n",
       "    </tr>\n",
       "  </thead>\n",
       "  <tbody>\n",
       "    <tr>\n",
       "      <th>230</th>\n",
       "      <td>2022-08-14 15:00:00</td>\n",
       "      <td>44.461311</td>\n",
       "      <td>76.533394</td>\n",
       "      <td>50.155449</td>\n",
       "      <td>0.004672</td>\n",
       "      <td>39.784660</td>\n",
       "      <td>35.335491</td>\n",
       "      <td>0.109485</td>\n",
       "      <td>0.096151</td>\n",
       "      <td>-0.051891</td>\n",
       "      <td>-0.365525</td>\n",
       "      <td>-0.020810</td>\n",
       "      <td>0.116730</td>\n",
       "      <td>2.140898</td>\n",
       "    </tr>\n",
       "    <tr>\n",
       "      <th>231</th>\n",
       "      <td>2022-08-14 16:00:00</td>\n",
       "      <td>44.627338</td>\n",
       "      <td>76.591820</td>\n",
       "      <td>50.065979</td>\n",
       "      <td>0.003364</td>\n",
       "      <td>38.544331</td>\n",
       "      <td>35.133545</td>\n",
       "      <td>0.108544</td>\n",
       "      <td>0.095577</td>\n",
       "      <td>-0.050253</td>\n",
       "      <td>-0.336233</td>\n",
       "      <td>-0.020510</td>\n",
       "      <td>0.114278</td>\n",
       "      <td>2.151324</td>\n",
       "    </tr>\n",
       "    <tr>\n",
       "      <th>232</th>\n",
       "      <td>2022-08-14 17:00:00</td>\n",
       "      <td>45.059555</td>\n",
       "      <td>76.605461</td>\n",
       "      <td>50.084969</td>\n",
       "      <td>0.004165</td>\n",
       "      <td>37.762901</td>\n",
       "      <td>34.945229</td>\n",
       "      <td>0.108082</td>\n",
       "      <td>0.100797</td>\n",
       "      <td>-0.048981</td>\n",
       "      <td>-0.425602</td>\n",
       "      <td>-0.019327</td>\n",
       "      <td>0.110466</td>\n",
       "      <td>2.129461</td>\n",
       "    </tr>\n",
       "    <tr>\n",
       "      <th>233</th>\n",
       "      <td>2022-08-14 18:00:00</td>\n",
       "      <td>45.304211</td>\n",
       "      <td>76.675880</td>\n",
       "      <td>50.066841</td>\n",
       "      <td>0.004479</td>\n",
       "      <td>36.801285</td>\n",
       "      <td>34.575352</td>\n",
       "      <td>0.111825</td>\n",
       "      <td>0.094992</td>\n",
       "      <td>-0.048828</td>\n",
       "      <td>-0.453840</td>\n",
       "      <td>-0.021149</td>\n",
       "      <td>0.104884</td>\n",
       "      <td>2.157015</td>\n",
       "    </tr>\n",
       "    <tr>\n",
       "      <th>234</th>\n",
       "      <td>2022-08-14 19:00:00</td>\n",
       "      <td>45.301586</td>\n",
       "      <td>76.735680</td>\n",
       "      <td>50.098618</td>\n",
       "      <td>0.003698</td>\n",
       "      <td>35.703705</td>\n",
       "      <td>33.821228</td>\n",
       "      <td>0.105990</td>\n",
       "      <td>0.094511</td>\n",
       "      <td>-0.048714</td>\n",
       "      <td>-0.404145</td>\n",
       "      <td>-0.018394</td>\n",
       "      <td>0.116226</td>\n",
       "      <td>2.111125</td>\n",
       "    </tr>\n",
       "    <tr>\n",
       "      <th>235</th>\n",
       "      <td>2022-08-14 20:00:00</td>\n",
       "      <td>46.159138</td>\n",
       "      <td>76.801140</td>\n",
       "      <td>50.079502</td>\n",
       "      <td>0.004221</td>\n",
       "      <td>34.695885</td>\n",
       "      <td>33.076050</td>\n",
       "      <td>0.104000</td>\n",
       "      <td>0.093498</td>\n",
       "      <td>-0.045883</td>\n",
       "      <td>-0.359330</td>\n",
       "      <td>-0.024723</td>\n",
       "      <td>0.118995</td>\n",
       "      <td>2.149292</td>\n",
       "    </tr>\n",
       "    <tr>\n",
       "      <th>236</th>\n",
       "      <td>2022-08-14 21:00:00</td>\n",
       "      <td>49.993687</td>\n",
       "      <td>76.875786</td>\n",
       "      <td>50.070919</td>\n",
       "      <td>0.004314</td>\n",
       "      <td>34.007282</td>\n",
       "      <td>32.704453</td>\n",
       "      <td>0.106845</td>\n",
       "      <td>0.097706</td>\n",
       "      <td>-0.045880</td>\n",
       "      <td>-0.237000</td>\n",
       "      <td>-0.020543</td>\n",
       "      <td>0.113270</td>\n",
       "      <td>2.134876</td>\n",
       "    </tr>\n",
       "    <tr>\n",
       "      <th>237</th>\n",
       "      <td>2022-08-14 22:00:00</td>\n",
       "      <td>52.738567</td>\n",
       "      <td>76.785690</td>\n",
       "      <td>50.023743</td>\n",
       "      <td>0.003544</td>\n",
       "      <td>33.383522</td>\n",
       "      <td>32.179310</td>\n",
       "      <td>0.103860</td>\n",
       "      <td>0.091886</td>\n",
       "      <td>-0.045776</td>\n",
       "      <td>-0.048069</td>\n",
       "      <td>-0.017303</td>\n",
       "      <td>0.120044</td>\n",
       "      <td>2.116195</td>\n",
       "    </tr>\n",
       "    <tr>\n",
       "      <th>238</th>\n",
       "      <td>2022-08-14 23:00:00</td>\n",
       "      <td>52.779434</td>\n",
       "      <td>76.838661</td>\n",
       "      <td>49.929195</td>\n",
       "      <td>0.003215</td>\n",
       "      <td>32.820461</td>\n",
       "      <td>31.874279</td>\n",
       "      <td>0.107080</td>\n",
       "      <td>0.099006</td>\n",
       "      <td>-0.045866</td>\n",
       "      <td>-0.306246</td>\n",
       "      <td>-0.021945</td>\n",
       "      <td>0.119307</td>\n",
       "      <td>2.173846</td>\n",
       "    </tr>\n",
       "    <tr>\n",
       "      <th>239</th>\n",
       "      <td>2022-08-15 00:00:00</td>\n",
       "      <td>52.931606</td>\n",
       "      <td>76.848816</td>\n",
       "      <td>49.894352</td>\n",
       "      <td>0.004399</td>\n",
       "      <td>32.299679</td>\n",
       "      <td>31.490393</td>\n",
       "      <td>0.106721</td>\n",
       "      <td>0.093372</td>\n",
       "      <td>-0.045776</td>\n",
       "      <td>-0.203180</td>\n",
       "      <td>-0.024231</td>\n",
       "      <td>0.125063</td>\n",
       "      <td>2.147903</td>\n",
       "    </tr>\n",
       "  </tbody>\n",
       "</table>\n",
       "</div>"
      ],
      "text/plain": [
       "                   Date     T-5551     T-5554     T-5552  Decanter Flowrate  \\\n",
       "230 2022-08-14 15:00:00  44.461311  76.533394  50.155449           0.004672   \n",
       "231 2022-08-14 16:00:00  44.627338  76.591820  50.065979           0.003364   \n",
       "232 2022-08-14 17:00:00  45.059555  76.605461  50.084969           0.004165   \n",
       "233 2022-08-14 18:00:00  45.304211  76.675880  50.066841           0.004479   \n",
       "234 2022-08-14 19:00:00  45.301586  76.735680  50.098618           0.003698   \n",
       "235 2022-08-14 20:00:00  46.159138  76.801140  50.079502           0.004221   \n",
       "236 2022-08-14 21:00:00  49.993687  76.875786  50.070919           0.004314   \n",
       "237 2022-08-14 22:00:00  52.738567  76.785690  50.023743           0.003544   \n",
       "238 2022-08-14 23:00:00  52.779434  76.838661  49.929195           0.003215   \n",
       "239 2022-08-15 00:00:00  52.931606  76.848816  49.894352           0.004399   \n",
       "\n",
       "     Temp bearing  Temp bearing.1  Vibration (Feed)  Vibration (Driver)  \\\n",
       "230     39.784660       35.335491          0.109485            0.096151   \n",
       "231     38.544331       35.133545          0.108544            0.095577   \n",
       "232     37.762901       34.945229          0.108082            0.100797   \n",
       "233     36.801285       34.575352          0.111825            0.094992   \n",
       "234     35.703705       33.821228          0.105990            0.094511   \n",
       "235     34.695885       33.076050          0.104000            0.093498   \n",
       "236     34.007282       32.704453          0.106845            0.097706   \n",
       "237     33.383522       32.179310          0.103860            0.091886   \n",
       "238     32.820461       31.874279          0.107080            0.099006   \n",
       "239     32.299679       31.490393          0.106721            0.093372   \n",
       "\n",
       "     Vibration (Frame)  Blow speed (RPM)  Diff speed (RPM)  Torque (%)  \\\n",
       "230          -0.051891         -0.365525         -0.020810    0.116730   \n",
       "231          -0.050253         -0.336233         -0.020510    0.114278   \n",
       "232          -0.048981         -0.425602         -0.019327    0.110466   \n",
       "233          -0.048828         -0.453840         -0.021149    0.104884   \n",
       "234          -0.048714         -0.404145         -0.018394    0.116226   \n",
       "235          -0.045883         -0.359330         -0.024723    0.118995   \n",
       "236          -0.045880         -0.237000         -0.020543    0.113270   \n",
       "237          -0.045776         -0.048069         -0.017303    0.120044   \n",
       "238          -0.045866         -0.306246         -0.021945    0.119307   \n",
       "239          -0.045776         -0.203180         -0.024231    0.125063   \n",
       "\n",
       "     Severity  \n",
       "230  2.140898  \n",
       "231  2.151324  \n",
       "232  2.129461  \n",
       "233  2.157015  \n",
       "234  2.111125  \n",
       "235  2.149292  \n",
       "236  2.134876  \n",
       "237  2.116195  \n",
       "238  2.173846  \n",
       "239  2.147903  "
      ]
     },
     "execution_count": 45,
     "metadata": {},
     "output_type": "execute_result"
    }
   ],
   "source": [
    "df_submission_rfr.tail(10)"
   ]
  },
  {
   "cell_type": "code",
   "execution_count": null,
   "metadata": {},
   "outputs": [],
   "source": []
  },
  {
   "cell_type": "code",
   "execution_count": 46,
   "metadata": {},
   "outputs": [],
   "source": [
    "df_submission_rfr.to_excel('20220819_20220805-20220515_NewDecanter_submission_rfr.xlsx', index=False) # Saving our submission file"
   ]
  },
  {
   "cell_type": "code",
   "execution_count": null,
   "metadata": {},
   "outputs": [],
   "source": []
  },
  {
   "cell_type": "code",
   "execution_count": null,
   "metadata": {},
   "outputs": [],
   "source": []
  },
  {
   "cell_type": "code",
   "execution_count": null,
   "metadata": {},
   "outputs": [],
   "source": []
  },
  {
   "cell_type": "code",
   "execution_count": null,
   "metadata": {},
   "outputs": [],
   "source": []
  },
  {
   "cell_type": "code",
   "execution_count": null,
   "metadata": {},
   "outputs": [],
   "source": []
  },
  {
   "cell_type": "code",
   "execution_count": null,
   "metadata": {},
   "outputs": [],
   "source": []
  },
  {
   "cell_type": "code",
   "execution_count": null,
   "metadata": {},
   "outputs": [],
   "source": []
  },
  {
   "cell_type": "code",
   "execution_count": null,
   "metadata": {},
   "outputs": [],
   "source": []
  },
  {
   "cell_type": "code",
   "execution_count": null,
   "metadata": {},
   "outputs": [],
   "source": []
  },
  {
   "cell_type": "code",
   "execution_count": null,
   "metadata": {},
   "outputs": [],
   "source": []
  },
  {
   "cell_type": "code",
   "execution_count": null,
   "metadata": {},
   "outputs": [],
   "source": []
  },
  {
   "cell_type": "code",
   "execution_count": null,
   "metadata": {},
   "outputs": [],
   "source": []
  },
  {
   "cell_type": "code",
   "execution_count": null,
   "metadata": {},
   "outputs": [],
   "source": []
  },
  {
   "cell_type": "code",
   "execution_count": null,
   "metadata": {},
   "outputs": [],
   "source": []
  },
  {
   "cell_type": "code",
   "execution_count": null,
   "metadata": {},
   "outputs": [],
   "source": []
  },
  {
   "cell_type": "code",
   "execution_count": null,
   "metadata": {},
   "outputs": [],
   "source": []
  },
  {
   "cell_type": "code",
   "execution_count": null,
   "metadata": {},
   "outputs": [],
   "source": []
  },
  {
   "cell_type": "code",
   "execution_count": null,
   "metadata": {},
   "outputs": [],
   "source": []
  },
  {
   "cell_type": "code",
   "execution_count": null,
   "metadata": {},
   "outputs": [],
   "source": []
  },
  {
   "cell_type": "code",
   "execution_count": null,
   "metadata": {},
   "outputs": [],
   "source": []
  },
  {
   "cell_type": "code",
   "execution_count": null,
   "metadata": {},
   "outputs": [],
   "source": []
  },
  {
   "cell_type": "code",
   "execution_count": null,
   "metadata": {},
   "outputs": [],
   "source": []
  },
  {
   "cell_type": "code",
   "execution_count": null,
   "metadata": {},
   "outputs": [],
   "source": []
  },
  {
   "cell_type": "code",
   "execution_count": null,
   "metadata": {},
   "outputs": [],
   "source": []
  },
  {
   "cell_type": "code",
   "execution_count": null,
   "metadata": {},
   "outputs": [],
   "source": []
  },
  {
   "cell_type": "code",
   "execution_count": null,
   "metadata": {},
   "outputs": [],
   "source": []
  },
  {
   "cell_type": "code",
   "execution_count": null,
   "metadata": {},
   "outputs": [],
   "source": []
  },
  {
   "cell_type": "code",
   "execution_count": null,
   "metadata": {},
   "outputs": [],
   "source": []
  },
  {
   "cell_type": "code",
   "execution_count": null,
   "metadata": {},
   "outputs": [],
   "source": []
  },
  {
   "cell_type": "code",
   "execution_count": null,
   "metadata": {},
   "outputs": [],
   "source": []
  },
  {
   "cell_type": "code",
   "execution_count": null,
   "metadata": {},
   "outputs": [],
   "source": []
  },
  {
   "cell_type": "code",
   "execution_count": null,
   "metadata": {},
   "outputs": [],
   "source": []
  },
  {
   "cell_type": "markdown",
   "metadata": {},
   "source": [
    "# Export Model"
   ]
  },
  {
   "cell_type": "code",
   "execution_count": null,
   "metadata": {},
   "outputs": [],
   "source": [
    "#import pickle"
   ]
  },
  {
   "cell_type": "code",
   "execution_count": null,
   "metadata": {},
   "outputs": [],
   "source": [
    "#with open('S-1303A_BuildingModels_20210118_Standard.plk', 'wb') as f:\n",
    "#    pickle.dump(clf_rfc, f)\n",
    "## สร้าง pickle file "
   ]
  },
  {
   "cell_type": "code",
   "execution_count": 51,
   "metadata": {},
   "outputs": [],
   "source": [
    "# Saving the model\n",
    "import pickle\n",
    "pickle.dump(grid_search, open('GC6_Decanter_rfr.pkl', 'wb'))"
   ]
  },
  {
   "cell_type": "code",
   "execution_count": null,
   "metadata": {},
   "outputs": [],
   "source": []
  },
  {
   "cell_type": "code",
   "execution_count": null,
   "metadata": {},
   "outputs": [],
   "source": []
  },
  {
   "cell_type": "code",
   "execution_count": null,
   "metadata": {},
   "outputs": [],
   "source": []
  },
  {
   "cell_type": "code",
   "execution_count": null,
   "metadata": {},
   "outputs": [],
   "source": []
  },
  {
   "cell_type": "code",
   "execution_count": null,
   "metadata": {},
   "outputs": [],
   "source": []
  },
  {
   "cell_type": "code",
   "execution_count": null,
   "metadata": {},
   "outputs": [],
   "source": []
  }
 ],
 "metadata": {
  "kernelspec": {
   "display_name": "Python 3",
   "language": "python",
   "name": "python3"
  },
  "language_info": {
   "codemirror_mode": {
    "name": "ipython",
    "version": 3
   },
   "file_extension": ".py",
   "mimetype": "text/x-python",
   "name": "python",
   "nbconvert_exporter": "python",
   "pygments_lexer": "ipython3",
   "version": "3.7.9"
  }
 },
 "nbformat": 4,
 "nbformat_minor": 4
}
